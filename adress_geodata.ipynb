{
 "cells": [
  {
   "cell_type": "code",
   "execution_count": 3,
   "metadata": {},
   "outputs": [
    {
     "name": "stdout",
     "output_type": "stream",
     "text": [
      " N02-23_RailroadSection.geojson   N06-23_Joint.dbf\n",
      " N02-23_Station.geojson\t\t  N06-23_Joint.geojson\n",
      " N06-23.xml\t\t\t  N06-23_Joint.prj\n",
      " N06-23_HighwaySection.dbf\t  N06-23_Joint.shp\n",
      " N06-23_HighwaySection.geojson\t  N06-23_Joint.shx\n",
      " N06-23_HighwaySection.prj\t  meizan.geojson\n",
      " N06-23_HighwaySection.shp\t '国土数値情報 _ 鉄道データ.pdf'\n",
      " N06-23_HighwaySection.shx\t '国土数値情報 _ 高速道路時系列データ.pdf'\n"
     ]
    }
   ],
   "source": [
    "!ls ./data"
   ]
  },
  {
   "cell_type": "code",
   "execution_count": 138,
   "metadata": {},
   "outputs": [],
   "source": [
    "import numpy as np\n",
    "import geopandas as gpd\n",
    "import pandas as pd\n",
    "import json\n",
    "import geojson\n",
    "\n",
    "'''\n",
    "    高速道路のデータの処理\n",
    "    shp -> geojson\n",
    "    IDは路線名ごとにつけている\n",
    "'''\n",
    "\n",
    "def main():\n",
    "\n",
    "    ifile = \"./data/N06-23_HighwaySection.shp\"\n",
    "    gdf = gpd.read_file(ifile, encoding='utf-8')\n",
    "    df_name = gdf.dissolve(by=\"N06_007\", as_index=False)[\"N06_007\"]\n",
    "\n",
    "    ## 路線名ごとにidをふる\n",
    "    names = df_name.to_list()\n",
    "    ids = np.arange(len(names))\n",
    "    name_dict = {key: val for key, val in zip(names, ids)}\n",
    "\n",
    "    features = []\n",
    "    for i in range(len(gdf)):\n",
    "    #for i in range(1):\n",
    "        lons = np.array(gdf[\"geometry\"][i].xy[0])\n",
    "        lats = np.array(gdf[\"geometry\"][i].xy[1])\n",
    "        lnglat = [xy for xy in zip(lons, lats)]\n",
    "        name = gdf[\"N06_007\"][i]\n",
    "        id = name_dict[name]\n",
    "        feature = {\n",
    "            \"type\": \"Feature\",\n",
    "            #\"id\": str(gdf[\"id\"][i]),\n",
    "            \"id\": str(id),\n",
    "            \"properties\": {\n",
    "                \"供用開始年\": str(gdf['N06_001'][i]),\n",
    "                \"開始年\": str(gdf['N06_002'][i]),\n",
    "                \"終了年\": str(gdf['N06_003'][i]),\n",
    "                \"関係ID\": str(gdf['N06_004'][i]),\n",
    "                \"変遷ID\": str(gdf['N06_005'][i]),\n",
    "                \"変遷備考\": str(gdf['N06_006'][i]),\n",
    "                \"路線名\": str(gdf['N06_007'][i]),\n",
    "                \"路線種別\": str(gdf['N06_008'][i]),\n",
    "                \"併用状況\": str(gdf['N06_009'][i]),\n",
    "                \"車線数\": str(gdf['N06_010'][i]),\n",
    "                \"備考\": str(gdf['N06_011'][i]),\n",
    "            },\n",
    "            \"geometry\": {\n",
    "                \"type\": \"LineString\",\n",
    "                \"coordinates\": lnglat,\n",
    "            },\n",
    "        }\n",
    "        features.append(feature)\n",
    "\n",
    "    # GeoJSONファイルを書き込む\n",
    "    ofile = \"./data/highway.geojson\"\n",
    "    with open(ofile, \"w\", encoding='utf_8') as f:\n",
    "        json.dump({\"type\":\"FeatureCollection\", \"features\": features}, f, indent = 2, ensure_ascii=False)\n",
    "\n",
    "\n",
    "if __name__ == \"__main__\":\n",
    "    main()"
   ]
  },
  {
   "cell_type": "code",
   "execution_count": null,
   "metadata": {},
   "outputs": [],
   "source": [
    "\n",
    "\n"
   ]
  }
 ],
 "metadata": {
  "kernelspec": {
   "display_name": "geo_env",
   "language": "python",
   "name": "python3"
  },
  "language_info": {
   "codemirror_mode": {
    "name": "ipython",
    "version": 3
   },
   "file_extension": ".py",
   "mimetype": "text/x-python",
   "name": "python",
   "nbconvert_exporter": "python",
   "pygments_lexer": "ipython3",
   "version": "3.12.7"
  }
 },
 "nbformat": 4,
 "nbformat_minor": 2
}
